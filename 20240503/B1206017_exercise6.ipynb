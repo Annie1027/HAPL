{
  "nbformat": 4,
  "nbformat_minor": 0,
  "metadata": {
    "colab": {
      "provenance": []
    },
    "kernelspec": {
      "name": "python3",
      "display_name": "Python 3"
    },
    "language_info": {
      "name": "python"
    }
  },
  "cells": [
    {
      "cell_type": "code",
      "execution_count": null,
      "metadata": {
        "id": "1wbzJBIv9RtR",
        "colab": {
          "base_uri": "https://localhost:8080/"
        },
        "outputId": "636e0a78-e025-4366-a8af-fa098a31ea78"
      },
      "outputs": [
        {
          "output_type": "stream",
          "name": "stdout",
          "text": [
            "輸入身高(公分)p\n",
            "輸入體重66\n",
            "輸入錯誤\n"
          ]
        }
      ],
      "source": [
        "def calculate_BMI(x,y):\n",
        "  try:\n",
        "    x=float(x)\n",
        "    y=float(y)\n",
        "    BMI=y/((x/100)**2)\n",
        "    if BMI<18.5:\n",
        "      result='體位過輕'\n",
        "    elif 18.5<BMI and BMI<24:\n",
        "      result='體位適中'\n",
        "    elif 24<BMI and BMI<27:\n",
        "      result='體位過重'\n",
        "    else:\n",
        "      result='體位肥胖'\n",
        "    return BMI,result\n",
        "  except:\n",
        "    return \"輸入錯誤\"\n",
        "\n",
        "x=input('輸入身高(公分)')\n",
        "y=input(\"輸入體重\")\n",
        "\n",
        "result=calculate_BMI(x,y)\n",
        "print(result)\n"
      ]
    },
    {
      "cell_type": "code",
      "source": [
        "def tree_(rows):\n",
        "  for i in range(rows):\n",
        "     for j in range(rows-i-1):\n",
        "        print(\" \",end='')\n",
        "     for k in range(2*i+1):\n",
        "        print(\"*\",end='')\n",
        "     print()\n",
        "\n",
        "  a=\"***\"\n",
        "  i=0\n",
        "  while i<5:\n",
        "    print(' '*(rows-2)+\"***\")\n",
        "    i+=1\n",
        "\n",
        "rows=int(input('請輸入聖誕樹的高度(至少7層以上)'))\n",
        "tree_(rows)\n"
      ],
      "metadata": {
        "colab": {
          "base_uri": "https://localhost:8080/"
        },
        "id": "Cd4BJhsbJaSV",
        "outputId": "5c334642-b98a-4af2-c527-05d53cc1bd5b"
      },
      "execution_count": null,
      "outputs": [
        {
          "output_type": "stream",
          "name": "stdout",
          "text": [
            "請輸入聖誕樹的高度(至少7層以上)8\n",
            "       *\n",
            "      ***\n",
            "     *****\n",
            "    *******\n",
            "   *********\n",
            "  ***********\n",
            " *************\n",
            "***************\n",
            "      ***\n",
            "      ***\n",
            "      ***\n",
            "      ***\n",
            "      ***\n"
          ]
        }
      ]
    }
  ]
}