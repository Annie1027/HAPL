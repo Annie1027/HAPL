{
  "nbformat": 4,
  "nbformat_minor": 0,
  "metadata": {
    "colab": {
      "provenance": []
    },
    "kernelspec": {
      "name": "python3",
      "display_name": "Python 3"
    },
    "language_info": {
      "name": "python"
    }
  },
  "cells": [
    {
      "cell_type": "markdown",
      "source": [
        "#1 印出指定文字\n"
      ],
      "metadata": {
        "id": "SrLgzDzU2bhf"
      }
    },
    {
      "cell_type": "code",
      "source": [
        "print('I\\'m a student')"
      ],
      "metadata": {
        "colab": {
          "base_uri": "https://localhost:8080/"
        },
        "id": "hhPvTiIE2f3P",
        "outputId": "a5abf0a9-151c-4b8c-c019-a932f66eb90a"
      },
      "execution_count": null,
      "outputs": [
        {
          "output_type": "stream",
          "name": "stdout",
          "text": [
            "I'm a student\n"
          ]
        }
      ]
    },
    {
      "cell_type": "markdown",
      "source": [
        "# 2 計算兩點距離"
      ],
      "metadata": {
        "id": "W7G6nuWW6f8F"
      }
    },
    {
      "cell_type": "code",
      "source": [
        "print('enter A coordinate:')\n",
        "x1 = float(input('x1:'))\n",
        "y1 = float(input('y1:'))\n",
        "print('enter B coordinate:')\n",
        "x2 = float(input('x2:'))\n",
        "y2 = float(input('y2:'))\n",
        "dist = ((x1-x2)**2+(y1-y2)**2)**0.5\n",
        "print(f'distance: {dist}')\n"
      ],
      "metadata": {
        "colab": {
          "base_uri": "https://localhost:8080/"
        },
        "id": "vRNQ8QCj22KL",
        "outputId": "459389c3-2d3d-4756-cfa2-1e4f19159920"
      },
      "execution_count": null,
      "outputs": [
        {
          "output_type": "stream",
          "name": "stdout",
          "text": [
            "enter A coordinate:\n",
            "x1:3\n",
            "y1:4\n",
            "enter B coordinate:\n",
            "x2:2\n",
            "y2:3\n",
            "distance: 1.4142135623730951\n"
          ]
        }
      ]
    },
    {
      "cell_type": "markdown",
      "source": [
        "#計算 BMI"
      ],
      "metadata": {
        "id": "qpwcR2Xr6kVU"
      }
    },
    {
      "cell_type": "code",
      "source": [
        "hei = float(input('輸入身高(公分)'))\n",
        "wei = float(input('輸入體重'))\n",
        "BMI = wei/(hei/100)**2\n",
        "print(f'身高{hei}公分 體重:{wei}公斤 BMI:{BMI:.2f}')"
      ],
      "metadata": {
        "colab": {
          "base_uri": "https://localhost:8080/"
        },
        "id": "IeJpqeo86fCl",
        "outputId": "83b6a447-a1ed-4019-8c14-ff1cf665bf10"
      },
      "execution_count": null,
      "outputs": [
        {
          "output_type": "stream",
          "name": "stdout",
          "text": [
            "輸入身高(公分)161\n",
            "輸入體重47\n",
            "身高161.0公分 體重:47.0公斤 BMI:18.13\n"
          ]
        }
      ]
    }
  ]
}