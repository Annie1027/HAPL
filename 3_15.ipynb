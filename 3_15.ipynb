{
  "nbformat": 4,
  "nbformat_minor": 0,
  "metadata": {
    "colab": {
      "provenance": []
    },
    "kernelspec": {
      "name": "python3",
      "display_name": "Python 3"
    },
    "language_info": {
      "name": "python"
    }
  },
  "cells": [
    {
      "cell_type": "code",
      "execution_count": 4,
      "metadata": {
        "colab": {
          "base_uri": "https://localhost:8080/"
        },
        "id": "-i6Oo0UEwKSA",
        "outputId": "c4aeecaf-9f19-43ed-df4c-e6fc2ef746f0"
      },
      "outputs": [
        {
          "output_type": "stream",
          "name": "stdout",
          "text": [
            "answer: 243\n"
          ]
        }
      ],
      "source": [
        "a=3\n",
        "b=5\n",
        "\n",
        "c=a**b\n",
        "\n",
        "print(\"answer:\",c)"
      ]
    },
    {
      "cell_type": "code",
      "source": [
        "a=3\n",
        "b=5\n",
        "a/=b\n",
        "print(a)"
      ],
      "metadata": {
        "colab": {
          "base_uri": "https://localhost:8080/"
        },
        "id": "H_Gem05Fzwaj",
        "outputId": "aaacbf5d-d217-4505-c3de-f0b97641e216"
      },
      "execution_count": 9,
      "outputs": [
        {
          "output_type": "stream",
          "name": "stdout",
          "text": [
            "0.6\n"
          ]
        }
      ]
    },
    {
      "cell_type": "code",
      "source": [
        "a='''長庚大學\n",
        "職治系\n",
        "毛聖媞'''\n",
        "print(a)"
      ],
      "metadata": {
        "colab": {
          "base_uri": "https://localhost:8080/"
        },
        "id": "UZhwedm-0SSy",
        "outputId": "803d2cc5-4688-4f1e-8c36-11371caa7022"
      },
      "execution_count": 5,
      "outputs": [
        {
          "output_type": "stream",
          "name": "stdout",
          "text": [
            "長庚大學\n",
            "職治系\n",
            "毛聖媞\n"
          ]
        }
      ]
    },
    {
      "cell_type": "code",
      "source": [],
      "metadata": {
        "id": "2OAgkito0xOT"
      },
      "execution_count": null,
      "outputs": []
    }
  ]
}