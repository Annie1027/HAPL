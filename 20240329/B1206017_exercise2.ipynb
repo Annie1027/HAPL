{
  "nbformat": 4,
  "nbformat_minor": 0,
  "metadata": {
    "colab": {
      "provenance": []
    },
    "kernelspec": {
      "name": "python3",
      "display_name": "Python 3"
    },
    "language_info": {
      "name": "python"
    }
  },
  "cells": [
    {
      "cell_type": "code",
      "execution_count": 7,
      "metadata": {
        "id": "9PUCuqxivLFT",
        "colab": {
          "base_uri": "https://localhost:8080/"
        },
        "outputId": "83c17d92-8f45-45e3-ce81-36a1a384b84b"
      },
      "outputs": [
        {
          "output_type": "stream",
          "name": "stdout",
          "text": [
            "{'姓名': '賴宏瑋', '性別': '男', '作業分數': [100, 100, 90], 'student ID': 'M1129020'}\n",
            "96.66666666666667\n"
          ]
        }
      ],
      "source": [
        "a={'姓名':'賴宏瑋','性別':'男','作業分數':[80,95,100,90]}\n",
        "a['student ID']='M1129020'\n",
        "a['作業分數'][1]=100\n",
        "del a ['作業分數'][0]\n",
        "print(a)\n",
        "\n",
        "arr=[100,100,90]\n",
        "import statistics\n",
        "print(statistics.mean(arr))"
      ]
    }
  ]
}