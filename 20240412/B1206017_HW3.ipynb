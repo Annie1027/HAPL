{
  "nbformat": 4,
  "nbformat_minor": 0,
  "metadata": {
    "colab": {
      "provenance": []
    },
    "kernelspec": {
      "name": "python3",
      "display_name": "Python 3"
    },
    "language_info": {
      "name": "python"
    }
  },
  "cells": [
    {
      "cell_type": "code",
      "execution_count": 1,
      "metadata": {
        "id": "GmZcIpNvEOzD",
        "colab": {
          "base_uri": "https://localhost:8080/"
        },
        "outputId": "fa8ea490-7af8-45f5-d2cd-24ae39008d15"
      },
      "outputs": [
        {
          "output_type": "stream",
          "name": "stdout",
          "text": [
            "請輸入年份1900\n",
            "平年\n"
          ]
        }
      ],
      "source": [
        "year=float(input(\"請輸入年份\"))\n",
        "a=1582\n",
        "b=4\n",
        "if year<a:\n",
        "  result=year%b\n",
        "  if result==0:\n",
        "     print(\"閏年\")\n",
        "  else:\n",
        "     print(\"平年\")\n",
        "else:\n",
        "    if year%4==0 and year%100>0:\n",
        "      print(\"平年\")\n",
        "    elif year%4==0 and year%100==0:\n",
        "         if year%100==0 and year%400>0:\n",
        "            print(\"平年\")\n",
        "         elif year%100==0 and year%400==0:\n",
        "             print(\"閏年\")"
      ]
    }
  ]
}