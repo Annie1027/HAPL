{
  "nbformat": 4,
  "nbformat_minor": 0,
  "metadata": {
    "colab": {
      "provenance": []
    },
    "kernelspec": {
      "name": "python3",
      "display_name": "Python 3"
    },
    "language_info": {
      "name": "python"
    }
  },
  "cells": [
    {
      "cell_type": "code",
      "execution_count": 30,
      "metadata": {
        "colab": {
          "base_uri": "https://localhost:8080/"
        },
        "id": "iQ1gdL4Ny7lj",
        "outputId": "cf0f044f-86b0-4781-fe0a-36d00437cca4"
      },
      "outputs": [
        {
          "output_type": "stream",
          "name": "stdout",
          "text": [
            "輸入身高162\n",
            "輸入體重48\n",
            "BMI= 18.289894833104707\n",
            "體位:過輕\n"
          ]
        }
      ],
      "source": [
        "hei = float(input(\"輸入身高\"))\n",
        "wei = float(input('輸入體重'))\n",
        "BMI = wei/(hei/100)**2\n",
        "print('BMI=',BMI)\n",
        "if BMI<18.5:\n",
        "  print('體位:過輕')\n",
        "elif 18.5<BMI and BMI<24:\n",
        "  print('體位:適中')\n",
        "elif 24<BMI and BMI<27:\n",
        "  print('體位:過重')\n",
        "else:\n",
        "  print('體位:肥胖')"
      ]
    },
    {
      "cell_type": "code",
      "source": [],
      "metadata": {
        "id": "gukXXad9A76P"
      },
      "execution_count": null,
      "outputs": []
    },
    {
      "cell_type": "code",
      "source": [
        "a = float(input(\"輸入第一個數字\"))\n",
        "b = (input(\"輸入一個運算符號\"))\n",
        "c = float(input(\"輸入第二個數字\"))\n",
        "if b=='+':\n",
        "  result=a+c\n",
        "elif b=='-':\n",
        "  result=a-c\n",
        "elif b=='*':\n",
        "  result=a*c\n",
        "elif b=='/':\n",
        "  result=a/c\n",
        "print(result)"
      ],
      "metadata": {
        "colab": {
          "base_uri": "https://localhost:8080/"
        },
        "id": "pDOFXJzl5QW6",
        "outputId": "69f2817c-253e-4d47-94e2-5908b4b8499d"
      },
      "execution_count": 29,
      "outputs": [
        {
          "output_type": "stream",
          "name": "stdout",
          "text": [
            "輸入第一個數字9\n",
            "輸入一個運算符號/\n",
            "輸入第二個數字63\n",
            "0.14285714285714285\n"
          ]
        }
      ]
    },
    {
      "cell_type": "code",
      "source": [],
      "metadata": {
        "id": "A_jDkXKO-b53"
      },
      "execution_count": null,
      "outputs": []
    }
  ]
}