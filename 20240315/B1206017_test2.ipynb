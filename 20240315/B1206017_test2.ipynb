{
  "nbformat": 4,
  "nbformat_minor": 0,
  "metadata": {
    "colab": {
      "provenance": []
    },
    "kernelspec": {
      "name": "python3",
      "display_name": "Python 3"
    },
    "language_info": {
      "name": "python"
    }
  },
  "cells": [
    {
      "cell_type": "code",
      "execution_count": null,
      "metadata": {
        "id": "umR9IFgkze08",
        "colab": {
          "base_uri": "https://localhost:8080/"
        },
        "outputId": "a23c93e4-2923-4c16-e1ef-cd21f59d336e"
      },
      "outputs": [
        {
          "output_type": "stream",
          "name": "stdout",
          "text": [
            "Ans,is= 11.11111111111111\n"
          ]
        }
      ],
      "source": [
        "y=4\n",
        "a=100\n",
        "b=2*y+1\n",
        "z=a/b\n",
        "print(\"Ans,is=\",z )"
      ]
    },
    {
      "cell_type": "code",
      "source": [
        "x=2\n",
        "y=1\n",
        "\n",
        "a=2*x+y\n",
        "b=100-y\n",
        "c=a*b\n",
        "\n",
        "print(\"answer:\",c)"
      ],
      "metadata": {
        "colab": {
          "base_uri": "https://localhost:8080/"
        },
        "id": "1kvR8Mufq6Vp",
        "outputId": "58771b37-ec3b-4c4f-cd3c-bab6d44fd068"
      },
      "execution_count": null,
      "outputs": [
        {
          "output_type": "stream",
          "name": "stdout",
          "text": [
            "answer: 495\n"
          ]
        }
      ]
    }
  ]
}