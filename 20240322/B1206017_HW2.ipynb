{
  "nbformat": 4,
  "nbformat_minor": 0,
  "metadata": {
    "colab": {
      "provenance": []
    },
    "kernelspec": {
      "name": "python3",
      "display_name": "Python 3"
    },
    "language_info": {
      "name": "python"
    }
  },
  "cells": [
    {
      "cell_type": "code",
      "source": [
        "# 1\n",
        "a = 'C,B,A'\n",
        "b = ['F','G','H']\n",
        "a = a.split(sep = ',') #將a以逗號拆分\n",
        "a = a + b  #結合a,b\n",
        "a[0] = 'K' #修改第一個元素為'K'\n",
        "print(f'remove 3rd element:{a.pop(2)}') #取出並印出第三個元素\n",
        "del a[1:4] #刪除第2~4個元素\n",
        "a.append('U') #在最後加上'U'\n",
        "print(f'final string:{a}')"
      ],
      "metadata": {
        "colab": {
          "base_uri": "https://localhost:8080/"
        },
        "id": "qQ2Tq3P3WnXE",
        "outputId": "d8f6e1a6-86a7-4239-d6fe-ef55e1b62cdc"
      },
      "execution_count": null,
      "outputs": [
        {
          "output_type": "stream",
          "name": "stdout",
          "text": [
            "remove 3rd element:A\n",
            "final string:['K', 'H', 'U']\n"
          ]
        }
      ]
    },
    {
      "cell_type": "code",
      "source": [
        "# 2\n",
        "num = input('enter a 8 digit number:')\n",
        "print(num[4])"
      ],
      "metadata": {
        "colab": {
          "base_uri": "https://localhost:8080/"
        },
        "id": "4H8dqO0_bbnS",
        "outputId": "34fb739a-9831-44f8-dae2-d0acb687b5a0"
      },
      "execution_count": null,
      "outputs": [
        {
          "output_type": "stream",
          "name": "stdout",
          "text": [
            "enter a 8 digit number:12345678\n",
            "5\n"
          ]
        }
      ]
    },
    {
      "cell_type": "code",
      "source": [
        "# 3\n",
        "a = 'My ID is B1206017'\n",
        "b=a.split()\n",
        "print(len(b[:]))\n",
        "print(len(a[9:17]))"
      ],
      "metadata": {
        "colab": {
          "base_uri": "https://localhost:8080/"
        },
        "id": "R1NdKULBb-dQ",
        "outputId": "ca9888f1-7908-41df-f107-cc10419dc4b8"
      },
      "execution_count": null,
      "outputs": [
        {
          "output_type": "stream",
          "name": "stdout",
          "text": [
            "4\n",
            "8\n"
          ]
        }
      ]
    },
    {
      "cell_type": "code",
      "source": [
        "# 4\n",
        "stri = \"I'm a student\"\n",
        "print(stri[2])"
      ],
      "metadata": {
        "colab": {
          "base_uri": "https://localhost:8080/"
        },
        "id": "-7HuQE12cebS",
        "outputId": "fc375755-4ac2-4b23-a406-38b08e84f3ff"
      },
      "execution_count": null,
      "outputs": [
        {
          "output_type": "stream",
          "name": "stdout",
          "text": [
            "m\n"
          ]
        }
      ]
    }
  ]
}