{
  "cells": [
    {
      "cell_type": "code",
      "execution_count": null,
      "metadata": {
        "colab": {
          "base_uri": "https://localhost:8080/"
        },
        "id": "ma0zzNSM21A-",
        "outputId": "79bb41d2-0f9c-4126-a157-ce712f9eb6d0"
      },
      "outputs": [
        {
          "name": "stdout",
          "output_type": "stream",
          "text": [
            "1*1=1\t1*2=2\t1*3=3\t1*4=4\t1*5=5\t1*6=6\t1*7=7\t1*8=8\t1*9=9\t\n",
            "2*1=2\t2*2=4\t2*3=6\t2*4=8\t2*5=10\t2*6=12\t2*7=14\t2*8=16\t2*9=18\t\n",
            "3*1=3\t3*2=6\t3*3=9\t3*4=12\t3*5=15\t3*6=18\t3*7=21\t3*8=24\t3*9=27\t\n",
            "4*1=4\t4*2=8\t4*3=12\t4*4=16\t4*5=20\t4*6=24\t4*7=28\t4*8=32\t4*9=36\t\n",
            "5*1=5\t5*2=10\t5*3=15\t5*4=20\t5*5=25\t5*6=30\t5*7=35\t5*8=40\t5*9=45\t\n",
            "6*1=6\t6*2=12\t6*3=18\t6*4=24\t6*5=30\t6*6=36\t6*7=42\t6*8=48\t6*9=54\t\n",
            "7*1=7\t7*2=14\t7*3=21\t7*4=28\t7*5=35\t7*6=42\t7*7=49\t7*8=56\t7*9=63\t\n",
            "8*1=8\t8*2=16\t8*3=24\t8*4=32\t8*5=40\t8*6=48\t8*7=56\t8*8=64\t8*9=72\t\n",
            "9*1=9\t9*2=18\t9*3=27\t9*4=36\t9*5=45\t9*6=54\t9*7=63\t9*8=72\t9*9=81\t\n"
          ]
        }
      ],
      "source": [
        "a = 1\n",
        "while a <= 9:\n",
        "  b=1\n",
        "  while b<=9:\n",
        "    print(f'{a}*{b}={a*b}', end='\\t')\n",
        "    b+= 1\n",
        "  print()\n",
        "  a+=1\n"
      ]
    },
    {
      "cell_type": "code",
      "execution_count": null,
      "metadata": {
        "colab": {
          "base_uri": "https://localhost:8080/"
        },
        "id": "X-PTpsYJ-5RH",
        "outputId": "248d7089-3fd4-48f0-bb63-6c2b403f2f1d"
      },
      "outputs": [
        {
          "output_type": "stream",
          "name": "stdout",
          "text": [
            "[8, 2, 3, 7]\n",
            "請輸入四個數字（不會重複）12345\n",
            "請輸入四個數字（不會重複）7245\n",
            "7245:1A1B\n",
            "請輸入四個數字（不會重複）4689\n",
            "4689:0A1B\n",
            "請輸入四個數字（不會重複）5790\n",
            "5790:0A1B\n",
            "請輸入四個數字（不會重複）7237\n",
            "7237:3A1B\n",
            "請輸入四個數字（不會重複）8237\n",
            "8237:4A0B\n",
            "答對了！總共猜了5次\n"
          ]
        }
      ],
      "source": [
        "import random\n",
        "\n",
        "def init_ans(size:int):\n",
        "    ans=random.sample(range(1,10),size)\n",
        "\n",
        "    return ans\n",
        "\n",
        "def guess_number(true_ans:list,ans_size:int):\n",
        "    tries_cnt=0\n",
        "\n",
        "    while True:\n",
        "      user_input=input('請輸入四個數字（不會重複）')\n",
        "\n",
        "      if user_input=='q':\n",
        "         break\n",
        "      if len(user_input)!=ans_size or not user_input.isdigit():\n",
        "        continue\n",
        "\n",
        "      tries_cnt+=1\n",
        "      user_ans=[int(ch)for ch in user_input]\n",
        "\n",
        "      a,b=0,0\n",
        "      for i in range(ans_size):\n",
        "         if user_ans[i]==true_ans[i]:\n",
        "          a+=1\n",
        "          continue\n",
        "         if user_ans[i]in true_ans:\n",
        "          b+=1\n",
        "      print(f'{user_input}:{a}A{b}B')\n",
        "\n",
        "      if user_ans==true_ans:\n",
        "        print(f'答對了！總共猜了{tries_cnt}次')\n",
        "        break\n",
        "if __name__=='__main__':\n",
        "     true_ans=init_ans(4)\n",
        "     print(true_ans)\n",
        "\n",
        "     guess_number(true_ans,len(true_ans))"
      ]
    },
    {
      "cell_type": "code",
      "source": [],
      "metadata": {
        "id": "UPyCOEyfT6AD"
      },
      "execution_count": null,
      "outputs": []
    }
  ],
  "metadata": {
    "colab": {
      "provenance": []
    },
    "kernelspec": {
      "display_name": "Python 3",
      "name": "python3"
    },
    "language_info": {
      "name": "python"
    }
  },
  "nbformat": 4,
  "nbformat_minor": 0
}